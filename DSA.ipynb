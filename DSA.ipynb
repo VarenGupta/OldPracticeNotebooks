{
  "nbformat": 4,
  "nbformat_minor": 0,
  "metadata": {
    "colab": {
      "provenance": [],
      "authorship_tag": "ABX9TyMMzwHTSjsogod6eVqZqBqz",
      "include_colab_link": true
    },
    "kernelspec": {
      "name": "python3",
      "display_name": "Python 3"
    },
    "language_info": {
      "name": "python"
    }
  },
  "cells": [
    {
      "cell_type": "markdown",
      "metadata": {
        "id": "view-in-github",
        "colab_type": "text"
      },
      "source": [
        "<a href=\"https://colab.research.google.com/github/VarenGupta/OldPracticeNotebooks/blob/main/DSA.ipynb\" target=\"_parent\"><img src=\"https://colab.research.google.com/assets/colab-badge.svg\" alt=\"Open In Colab\"/></a>"
      ]
    },
    {
      "cell_type": "code",
      "execution_count": 1,
      "metadata": {
        "id": "9Ym1tUpLOip4"
      },
      "outputs": [],
      "source": [
        "# URL: https://www.youtube.com/watch?v=8hly31xKli0\n",
        "# Last watched: 50:57"
      ]
    },
    {
      "cell_type": "code",
      "source": [
        "# Algorithm - set of steps that a program takes to complete a task\n",
        "# Algorithmic thinking - Identify the right algo for the problem\n",
        "# Complexity and efficiency\n",
        "\n",
        "# Clearly defined problem statment, input and output\n",
        "# Algorithmic steps should be distinct and should not be possible to break down further\n",
        "# Correctness (Formally done with mathematical induction) and efficiency (time and space)\n",
        "# order of growth in tries vs n\n",
        "\n",
        "# Big O\n",
        "# Complexity of algorithm as the function of it's size\n",
        "# O(n) - upper bounds | how the algo works in worst case scenario\n",
        "\n",
        "# Linear search - O(n)\n",
        "# Binary search - O(log n)\n",
        "\n",
        "# Runtime per operations is constant - O(1)\n",
        "# regardless of size of n, algo takes constant time\n",
        "# O(log n) - logarithmic runtime\n",
        "\n",
        "# O(n^2)\n",
        "\n",
        "# O(n^3)\n",
        "\n",
        "# O(nlogn) | Quasilinear (worst case runtime betwene qudratic and linear) | Merge sort\n",
        "\n",
        "# O(n^k) - Polynomial runtime\n",
        "\n",
        "# O(n!) - Factorial/Combinatorial runtimes"
      ],
      "metadata": {
        "id": "ZInamcD2OsSN"
      },
      "execution_count": 2,
      "outputs": []
    },
    {
      "cell_type": "code",
      "source": [
        "# Linear Search"
      ],
      "metadata": {
        "id": "Q4mE9khZYXMT"
      },
      "execution_count": 3,
      "outputs": []
    },
    {
      "cell_type": "code",
      "source": [
        "def linear_search(lst, target):\n",
        "  \"\"\"\n",
        "  Returns the index of target if found, else returns None\n",
        "  \"\"\"\n",
        "  for i in range(0,len(lst)):\n",
        "    if lst[i] == target:\n",
        "      return i\n",
        "  return None"
      ],
      "metadata": {
        "id": "I4QQlBusZyyh"
      },
      "execution_count": 4,
      "outputs": []
    },
    {
      "cell_type": "code",
      "source": [
        "def verify(ix):\n",
        "  if ix is not None:\n",
        "    print(\"Target found at index:\", ix)\n",
        "  else:\n",
        "    print(\"Target not found\")\n",
        "\n",
        "numbers = [i for i in range(1,11)]\n",
        "result = linear_search(numbers, 6)\n",
        "verify(result)"
      ],
      "metadata": {
        "colab": {
          "base_uri": "https://localhost:8080/"
        },
        "id": "nEqUrl70llGA",
        "outputId": "0a3e0d88-3d7e-4772-f884-a2f302c97008"
      },
      "execution_count": 5,
      "outputs": [
        {
          "output_type": "stream",
          "name": "stdout",
          "text": [
            "Target found at index: 5\n"
          ]
        }
      ]
    },
    {
      "cell_type": "code",
      "source": [
        "# case 1:  [0,1,2,3,4,5]\n",
        "# case 2:  [0,1,2,3,4]\n",
        "# 1:22 something for time lapse\n",
        "def binary_search(list, target):\n",
        "  first = 0\n",
        "  last = len(list) - 1\n",
        "\n",
        "  while first <= last:\n",
        "    midpoint = (first + last)//2    # floor division\n",
        "    if list[midpoint] == target:\n",
        "      return midpoint\n",
        "    elif list[midpoint] < target:\n",
        "      first = midpoint + 1\n",
        "    else:\n",
        "      last = midpoint - 1\n",
        "\n",
        "  return None"
      ],
      "metadata": {
        "id": "QOQ2NqwjdJAu"
      },
      "execution_count": 6,
      "outputs": []
    },
    {
      "cell_type": "code",
      "source": [
        "result = binary_search(numbers,6)\n",
        "verify(result)"
      ],
      "metadata": {
        "colab": {
          "base_uri": "https://localhost:8080/"
        },
        "id": "8iXO4__-mwKP",
        "outputId": "67df6b52-bd8d-4238-a0f6-6523f7c2db7e"
      },
      "execution_count": 13,
      "outputs": [
        {
          "output_type": "stream",
          "name": "stdout",
          "text": [
            "Target found at index: 5\n"
          ]
        }
      ]
    },
    {
      "cell_type": "code",
      "source": [
        "def recursive_binary_search(list, target):\n",
        "  if len(list) == 0:\n",
        "    return False\n",
        "  else:\n",
        "    midpoint = len(list)//2\n",
        "\n",
        "    if list[midpoint] == target:\n",
        "      return True\n",
        "    else:\n",
        "      if list[midpoint] < target:\n",
        "        return recursive_binary_search(list[midpoint+1:], target)\n",
        "      else:\n",
        "        return recursive_binary_search(list[:midpoint], target)\n",
        "\n",
        "def verify(result):\n",
        "  return \"Target found\" if result else \"Target not found\""
      ],
      "metadata": {
        "id": "c0d-ph-pm0U_"
      },
      "execution_count": 21,
      "outputs": []
    },
    {
      "cell_type": "code",
      "source": [
        "verify(recursive_binary_search(numbers,7))"
      ],
      "metadata": {
        "colab": {
          "base_uri": "https://localhost:8080/",
          "height": 38
        },
        "id": "nsi5Y5D9pmLX",
        "outputId": "6863c2b3-553c-4cf0-80eb-f8410dbd304c"
      },
      "execution_count": 27,
      "outputs": [
        {
          "output_type": "execute_result",
          "data": {
            "text/plain": [
              "'Target found'"
            ],
            "application/vnd.google.colaboratory.intrinsic+json": {
              "type": "string"
            }
          },
          "metadata": {},
          "execution_count": 27
        }
      ]
    },
    {
      "cell_type": "code",
      "source": [
        "# Introduction to Data Structures\n",
        "'''\n",
        "1. Access and read\n",
        "2. Search\n",
        "3. Insert at a specified position\n",
        "4. Delete elements\n",
        "'''"
      ],
      "metadata": {
        "colab": {
          "base_uri": "https://localhost:8080/",
          "height": 38
        },
        "id": "PjxnfhIUpyCO",
        "outputId": "e57dac19-652d-46a4-c3d0-b4ec41599b88"
      },
      "execution_count": 36,
      "outputs": [
        {
          "output_type": "execute_result",
          "data": {
            "text/plain": [
              "'\\n1. Access and read\\n2. Search\\n3. Insert at a specified position\\n4. Delete elements\\n'"
            ],
            "application/vnd.google.colaboratory.intrinsic+json": {
              "type": "string"
            }
          },
          "metadata": {},
          "execution_count": 36
        }
      ]
    },
    {
      "cell_type": "code",
      "source": [
        "# Arrays in python are basically list data type\n",
        "# Arrays store contiguous data\n",
        "# In python values are stored elsewhere but their references are stored in contiguous fashion"
      ],
      "metadata": {
        "id": "dz-ASGC2C4Om"
      },
      "execution_count": 37,
      "outputs": []
    },
    {
      "cell_type": "code",
      "source": [
        "new_list = [1,2,3]"
      ],
      "metadata": {
        "id": "EcINUA10C97_"
      },
      "execution_count": 38,
      "outputs": []
    },
    {
      "cell_type": "code",
      "source": [
        "# constant time\n",
        "new_list[1]"
      ],
      "metadata": {
        "id": "Zwlrg5YNDBoD",
        "outputId": "757b268e-88db-4bca-aeb9-dfa04fe66a35",
        "colab": {
          "base_uri": "https://localhost:8080/"
        }
      },
      "execution_count": 40,
      "outputs": [
        {
          "output_type": "execute_result",
          "data": {
            "text/plain": [
              "2"
            ]
          },
          "metadata": {},
          "execution_count": 40
        }
      ]
    },
    {
      "cell_type": "code",
      "source": [
        "if 1 in new_list: print(True)"
      ],
      "metadata": {
        "id": "HkEekNyyDoCB",
        "outputId": "c00c782e-56d3-4a46-8481-f46642688e14",
        "colab": {
          "base_uri": "https://localhost:8080/"
        }
      },
      "execution_count": 41,
      "outputs": [
        {
          "output_type": "stream",
          "name": "stdout",
          "text": [
            "True\n"
          ]
        }
      ]
    },
    {
      "cell_type": "code",
      "source": [
        "for n in new_list:\n",
        "  if n==1:\n",
        "    print(True)"
      ],
      "metadata": {
        "id": "EmQMTmonEloY",
        "outputId": "585f06c5-07ea-42f7-96ac-1b325358f7f9",
        "colab": {
          "base_uri": "https://localhost:8080/"
        }
      },
      "execution_count": 42,
      "outputs": [
        {
          "output_type": "stream",
          "name": "stdout",
          "text": [
            "True\n"
          ]
        }
      ]
    },
    {
      "cell_type": "code",
      "source": [
        "numbers = []\n",
        "len(numbers)"
      ],
      "metadata": {
        "id": "rixCVqlPEtuE",
        "outputId": "e4b646ca-93f2-4445-d6e1-b631a4ba3aa2",
        "colab": {
          "base_uri": "https://localhost:8080/"
        }
      },
      "execution_count": 46,
      "outputs": [
        {
          "output_type": "execute_result",
          "data": {
            "text/plain": [
              "0"
            ]
          },
          "metadata": {},
          "execution_count": 46
        }
      ]
    },
    {
      "cell_type": "code",
      "source": [
        "numbers.append(2)"
      ],
      "metadata": {
        "id": "TOpedANPNVoN"
      },
      "execution_count": 44,
      "outputs": []
    },
    {
      "cell_type": "code",
      "source": [
        "# resizing - 0,4,8,16,25,35,46\n",
        "# ammortized constant space complexity\n",
        "numbers.append(200)"
      ],
      "metadata": {
        "id": "8ppoLwqyNY3_"
      },
      "execution_count": 45,
      "outputs": []
    },
    {
      "cell_type": "code",
      "source": [
        "numbers.extend([4,5,6])"
      ],
      "metadata": {
        "id": "4BQjFspINa4N"
      },
      "execution_count": 48,
      "outputs": []
    },
    {
      "cell_type": "code",
      "source": [
        "# Delete | O(n)"
      ],
      "metadata": {
        "id": "xW0Imj0qOONG"
      },
      "execution_count": 49,
      "outputs": []
    },
    {
      "cell_type": "code",
      "source": [
        "# Linked list"
      ],
      "metadata": {
        "id": "DW6-dySsOTAO"
      },
      "execution_count": 50,
      "outputs": []
    },
    {
      "cell_type": "code",
      "source": [
        "class Node:\n",
        "  \"\"\"\n",
        "  An object for storing a single node of a linked list\n",
        "  Models two attributes - data and link to next node in the list\n",
        "  \"\"\"\n",
        "  data = None\n",
        "  next_node = None\n",
        "\n",
        "  def __init__(self, data):\n",
        "    self.data = data\n",
        "\n",
        "  def __repr__(self):\n",
        "    return f\"<Node data: {self.data}>\"\n",
        "\n",
        "class LinkedList:\n",
        "  \"\"\"\n",
        "  Singly linked list\n",
        "  \"\"\"\n",
        "\n",
        "  def __init__(self):\n",
        "    self.head = None\n",
        "\n",
        "  def is_empty(self):\n",
        "    return self.head is None\n",
        "\n",
        "  def size(self):\n",
        "    \"\"\"\n",
        "    Returns the number of nodes in a list\n",
        "    Takes O(n) time\n",
        "    \"\"\"\n",
        "    current = self.head\n",
        "    count = 0\n",
        "\n",
        "    while current:\n",
        "      count += 1\n",
        "      current = current.next_node\n",
        "\n",
        "    return count\n",
        "\n",
        "  def add(self, data):\n",
        "    \"\"\"\n",
        "    Adds a new node containing data at the head of the list\n",
        "    Takes O(1) time\n",
        "    \"\"\"\n",
        "    new_node = Node(data)\n",
        "    new_node.next_node = self.head\n",
        "    self.head = new_node"
      ],
      "metadata": {
        "id": "J7FjbFX_ay3e"
      },
      "execution_count": 67,
      "outputs": []
    },
    {
      "cell_type": "code",
      "source": [
        "# 2\n",
        "l = LinkedList()\n",
        "n1 = Node(10)\n",
        "l.head = n1\n",
        "l.size()"
      ],
      "metadata": {
        "id": "AJ98zeBBdypp",
        "outputId": "c8096beb-de49-4b92-d675-fb883ba30f87",
        "colab": {
          "base_uri": "https://localhost:8080/"
        }
      },
      "execution_count": 66,
      "outputs": [
        {
          "output_type": "execute_result",
          "data": {
            "text/plain": [
              "1"
            ]
          },
          "metadata": {},
          "execution_count": 66
        }
      ]
    },
    {
      "cell_type": "code",
      "source": [
        "# 1\n",
        "n1 = Node(10)\n",
        "n2 = Node(20)\n",
        "n1.next_node = n2\n",
        "n1.next_node"
      ],
      "metadata": {
        "id": "Y67mwDK3bRLF"
      },
      "execution_count": 60,
      "outputs": []
    },
    {
      "cell_type": "code",
      "source": [
        "# 3\n",
        "l = LinkedList()\n",
        "l.add(1)\n",
        "l.size()"
      ],
      "metadata": {
        "id": "f2Gbt-AScIUZ",
        "outputId": "b10ec387-3e58-4f3c-ba60-8faa9418b7d2",
        "colab": {
          "base_uri": "https://localhost:8080/"
        }
      },
      "execution_count": 68,
      "outputs": [
        {
          "output_type": "execute_result",
          "data": {
            "text/plain": [
              "1"
            ]
          },
          "metadata": {},
          "execution_count": 68
        }
      ]
    },
    {
      "cell_type": "code",
      "source": [
        "# 3\n",
        "l.add(2)\n",
        "l.add(3)\n",
        "l.size()"
      ],
      "metadata": {
        "id": "RW347EEbekGn",
        "outputId": "e200274d-585e-4824-a68c-f956680bd51f",
        "colab": {
          "base_uri": "https://localhost:8080/"
        }
      },
      "execution_count": 71,
      "outputs": [
        {
          "output_type": "execute_result",
          "data": {
            "text/plain": [
              "5"
            ]
          },
          "metadata": {},
          "execution_count": 71
        }
      ]
    },
    {
      "cell_type": "code",
      "source": [],
      "metadata": {
        "id": "D4v-dXnYeo3L",
        "outputId": "88916f19-d8e4-4544-a508-cdcafacb4d83",
        "colab": {
          "base_uri": "https://localhost:8080/"
        }
      },
      "execution_count": 70,
      "outputs": [
        {
          "output_type": "execute_result",
          "data": {
            "text/plain": [
              "<__main__.LinkedList at 0x79ab1832fdf0>"
            ]
          },
          "metadata": {},
          "execution_count": 70
        }
      ]
    },
    {
      "cell_type": "code",
      "source": [],
      "metadata": {
        "id": "W_zE7LPQep2T"
      },
      "execution_count": null,
      "outputs": []
    }
  ]
}