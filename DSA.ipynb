{
  "nbformat": 4,
  "nbformat_minor": 0,
  "metadata": {
    "colab": {
      "provenance": [],
      "authorship_tag": "ABX9TyNcQNVSXE80lx7gOK9P1v41",
      "include_colab_link": true
    },
    "kernelspec": {
      "name": "python3",
      "display_name": "Python 3"
    },
    "language_info": {
      "name": "python"
    }
  },
  "cells": [
    {
      "cell_type": "markdown",
      "metadata": {
        "id": "view-in-github",
        "colab_type": "text"
      },
      "source": [
        "<a href=\"https://colab.research.google.com/github/VarenGupta/OldPracticeNotebooks/blob/main/DSA.ipynb\" target=\"_parent\"><img src=\"https://colab.research.google.com/assets/colab-badge.svg\" alt=\"Open In Colab\"/></a>"
      ]
    },
    {
      "cell_type": "code",
      "execution_count": null,
      "metadata": {
        "id": "9Ym1tUpLOip4"
      },
      "outputs": [],
      "source": [
        "# URL: https://www.youtube.com/watch?v=8hly31xKli0\n",
        "# Last watched: 50:57"
      ]
    },
    {
      "cell_type": "code",
      "source": [
        "# Algorithm - set of steps that a program takes to complete a task\n",
        "# Algorithmic thinking - Identify the right algo for the problem\n",
        "# Complexity and efficiency\n",
        "\n",
        "# Clearly defined problem statment, input and output\n",
        "# Algorithmic steps should be distinct and should not be possible to break down further\n",
        "# Correctness (Formally done with mathematical induction) and efficiency (time and space)\n",
        "# order of growth in tries vs n\n",
        "\n",
        "# Big O\n",
        "# Complexity of algorithm as the function of it's size\n",
        "# O(n) - upper bounds | how the algo works in worst case scenario\n",
        "\n",
        "# Linear search - O(n)\n",
        "# Binary search - O(log n)\n",
        "\n",
        "# Runtime per operations is constant - O(1)\n",
        "# regardless of size of n, algo takes constant time\n",
        "# O(log n) - logarithmic runtime\n"
      ],
      "metadata": {
        "id": "ZInamcD2OsSN"
      },
      "execution_count": null,
      "outputs": []
    }
  ]
}