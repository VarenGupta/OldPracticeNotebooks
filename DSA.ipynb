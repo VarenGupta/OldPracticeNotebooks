{
  "nbformat": 4,
  "nbformat_minor": 0,
  "metadata": {
    "colab": {
      "provenance": [],
      "authorship_tag": "ABX9TyP5dk3pD6ISxqrd0iBFmJ1y",
      "include_colab_link": true
    },
    "kernelspec": {
      "name": "python3",
      "display_name": "Python 3"
    },
    "language_info": {
      "name": "python"
    }
  },
  "cells": [
    {
      "cell_type": "markdown",
      "metadata": {
        "id": "view-in-github",
        "colab_type": "text"
      },
      "source": [
        "<a href=\"https://colab.research.google.com/github/VarenGupta/OldPracticeNotebooks/blob/main/DSA.ipynb\" target=\"_parent\"><img src=\"https://colab.research.google.com/assets/colab-badge.svg\" alt=\"Open In Colab\"/></a>"
      ]
    },
    {
      "cell_type": "code",
      "execution_count": null,
      "metadata": {
        "id": "9Ym1tUpLOip4"
      },
      "outputs": [],
      "source": [
        "# URL: https://www.youtube.com/watch?v=8hly31xKli0\n",
        "# Last watched: 50:57"
      ]
    },
    {
      "cell_type": "code",
      "source": [
        "# Algorithm - set of steps that a program takes to complete a task\n",
        "# Algorithmic thinking - Identify the right algo for the problem\n",
        "# Complexity and efficiency\n",
        "\n",
        "# Clearly defined problem statment, input and output\n",
        "# Algorithmic steps should be distinct and should not be possible to break down further\n",
        "# Correctness (Formally done with mathematical induction) and efficiency (time and space)\n",
        "# order of growth in tries vs n\n",
        "\n",
        "# Big O\n",
        "# Complexity of algorithm as the function of it's size\n",
        "# O(n) - upper bounds | how the algo works in worst case scenario\n",
        "\n",
        "# Linear search - O(n)\n",
        "# Binary search - O(log n)\n",
        "\n",
        "# Runtime per operations is constant - O(1)\n",
        "# regardless of size of n, algo takes constant time\n",
        "# O(log n) - logarithmic runtime\n",
        "\n",
        "# O(n^2)\n",
        "\n",
        "# O(n^3)\n",
        "\n",
        "# O(nlogn) | Quasilinear (worst case runtime betwene qudratic and linear) | Merge sort\n",
        "\n",
        "# O(n^k) - Polynomial runtime\n",
        "\n",
        "# O(n!) - Factorial/Combinatorial runtimes"
      ],
      "metadata": {
        "id": "ZInamcD2OsSN"
      },
      "execution_count": null,
      "outputs": []
    },
    {
      "cell_type": "code",
      "source": [
        "# Linear Search"
      ],
      "metadata": {
        "id": "Q4mE9khZYXMT"
      },
      "execution_count": null,
      "outputs": []
    },
    {
      "cell_type": "code",
      "source": [
        "def linear_search(lst, target):\n",
        "  \"\"\"\n",
        "  Returns the index of target if found, else returns None\n",
        "  \"\"\"\n",
        "  for i in range(0,len(lst)):\n",
        "    if lst[i] == target:\n",
        "      return i\n",
        "  return None\n",
        "\n",
        "def verify(ix):\n",
        "  if ix is not None:\n",
        "    print(\"Target found at index:\", ix)\n",
        "  else:\n",
        "    print(\"Target not found\")\n",
        "\n",
        "numbers = [i for i in range(1,11)]\n",
        "result = linear_search(numbers, 6)\n",
        "verify(result)"
      ],
      "metadata": {
        "id": "I4QQlBusZyyh",
        "outputId": "7ed2c3f5-3497-4ed1-914a-8ec461b826e7",
        "colab": {
          "base_uri": "https://localhost:8080/"
        }
      },
      "execution_count": null,
      "outputs": [
        {
          "output_type": "stream",
          "name": "stdout",
          "text": [
            "Target found at index: 5\n"
          ]
        }
      ]
    },
    {
      "cell_type": "code",
      "source": [
        "# 1:22 something for time lapse\n",
        "def binary_search(list, target):\n",
        "  first = 0\n",
        "  last = len(list) - 1\n",
        "\n",
        "  while first <= last:\n",
        "    midpoint = (first + last)//2    # floor division\n",
        "    if list[midpoint] == target:\n",
        "      return midpoint\n",
        "    elif list[midpoint] < target:\n"
      ],
      "metadata": {
        "id": "QOQ2NqwjdJAu"
      },
      "execution_count": null,
      "outputs": []
    }
  ]
}