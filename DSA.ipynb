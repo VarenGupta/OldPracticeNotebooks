{
  "nbformat": 4,
  "nbformat_minor": 0,
  "metadata": {
    "colab": {
      "provenance": [],
      "authorship_tag": "ABX9TyPmr4oRxnwO+eSYfGcCJ+Nr",
      "include_colab_link": true
    },
    "kernelspec": {
      "name": "python3",
      "display_name": "Python 3"
    },
    "language_info": {
      "name": "python"
    }
  },
  "cells": [
    {
      "cell_type": "markdown",
      "metadata": {
        "id": "view-in-github",
        "colab_type": "text"
      },
      "source": [
        "<a href=\"https://colab.research.google.com/github/VarenGupta/OldPracticeNotebooks/blob/main/DSA.ipynb\" target=\"_parent\"><img src=\"https://colab.research.google.com/assets/colab-badge.svg\" alt=\"Open In Colab\"/></a>"
      ]
    },
    {
      "cell_type": "code",
      "execution_count": 1,
      "metadata": {
        "id": "9Ym1tUpLOip4"
      },
      "outputs": [],
      "source": [
        "# URL: https://www.youtube.com/watch?v=8hly31xKli0\n",
        "# Last watched: 50:57"
      ]
    },
    {
      "cell_type": "code",
      "source": [
        "# Algorithm - set of steps that a program takes to complete a task\n",
        "# Algorithmic thinking - Identify the right algo for the problem\n",
        "# Complexity and efficiency\n",
        "\n",
        "# Clearly defined problem statment, input and output\n",
        "# Algorithmic steps should be distinct and should not be possible to break down further\n",
        "# Correctness (Formally done with mathematical induction) and efficiency (time and space)\n",
        "# order of growth in tries vs n\n",
        "\n",
        "# Big O\n",
        "# Complexity of algorithm as the function of it's size\n",
        "# O(n) - upper bounds | how the algo works in worst case scenario\n",
        "\n",
        "# Linear search - O(n)\n",
        "# Binary search - O(log n)\n",
        "\n",
        "# Runtime per operations is constant - O(1)\n",
        "# regardless of size of n, algo takes constant time\n",
        "# O(log n) - logarithmic runtime\n",
        "\n",
        "# O(n^2)\n",
        "\n",
        "# O(n^3)\n",
        "\n",
        "# O(nlogn) | Quasilinear (worst case runtime betwene qudratic and linear) | Merge sort\n",
        "\n",
        "# O(n^k) - Polynomial runtime\n",
        "\n",
        "# O(n!) - Factorial/Combinatorial runtimes"
      ],
      "metadata": {
        "id": "ZInamcD2OsSN"
      },
      "execution_count": 2,
      "outputs": []
    },
    {
      "cell_type": "code",
      "source": [
        "# Linear Search"
      ],
      "metadata": {
        "id": "Q4mE9khZYXMT"
      },
      "execution_count": 3,
      "outputs": []
    },
    {
      "cell_type": "code",
      "source": [
        "def linear_search(lst, target):\n",
        "  \"\"\"\n",
        "  Returns the index of target if found, else returns None\n",
        "  \"\"\"\n",
        "  for i in range(0,len(lst)):\n",
        "    if lst[i] == target:\n",
        "      return i\n",
        "  return None"
      ],
      "metadata": {
        "id": "I4QQlBusZyyh"
      },
      "execution_count": 4,
      "outputs": []
    },
    {
      "cell_type": "code",
      "source": [
        "def verify(ix):\n",
        "  if ix is not None:\n",
        "    print(\"Target found at index:\", ix)\n",
        "  else:\n",
        "    print(\"Target not found\")\n",
        "\n",
        "numbers = [i for i in range(1,11)]\n",
        "result = linear_search(numbers, 6)\n",
        "verify(result)"
      ],
      "metadata": {
        "id": "nEqUrl70llGA",
        "outputId": "0a3e0d88-3d7e-4772-f884-a2f302c97008",
        "colab": {
          "base_uri": "https://localhost:8080/"
        }
      },
      "execution_count": 5,
      "outputs": [
        {
          "output_type": "stream",
          "name": "stdout",
          "text": [
            "Target found at index: 5\n"
          ]
        }
      ]
    },
    {
      "cell_type": "code",
      "source": [
        "# case 1:  [0,1,2,3,4,5]\n",
        "# case 2:  [0,1,2,3,4]\n",
        "# 1:22 something for time lapse\n",
        "def binary_search(list, target):\n",
        "  first = 0\n",
        "  last = len(list) - 1\n",
        "\n",
        "  while first <= last:\n",
        "    midpoint = (first + last)//2    # floor division\n",
        "    if list[midpoint] == target:\n",
        "      return midpoint\n",
        "    elif list[midpoint] < target:\n",
        "      first = midpoint + 1\n",
        "    else:\n",
        "      last = midpoint - 1\n",
        "\n",
        "  return None"
      ],
      "metadata": {
        "id": "QOQ2NqwjdJAu"
      },
      "execution_count": 6,
      "outputs": []
    },
    {
      "cell_type": "code",
      "source": [
        "result = binary_search(numbers,6)\n",
        "verify(result)"
      ],
      "metadata": {
        "id": "8iXO4__-mwKP",
        "outputId": "67df6b52-bd8d-4238-a0f6-6523f7c2db7e",
        "colab": {
          "base_uri": "https://localhost:8080/"
        }
      },
      "execution_count": 13,
      "outputs": [
        {
          "output_type": "stream",
          "name": "stdout",
          "text": [
            "Target found at index: 5\n"
          ]
        }
      ]
    },
    {
      "cell_type": "code",
      "source": [
        "def recursive_binary_search(list, target):\n",
        "  if len(list) == 0:\n",
        "    return False\n",
        "  else:\n",
        "    midpoint = len(list)//2\n",
        "\n",
        "    if list[midpoint] == target:\n",
        "      return True\n",
        "    else:\n",
        "      if list[midpoint] < target:\n",
        "        return recursive_binary_search(list[midpoint+1:], target)\n",
        "      else:\n",
        "        return recursive_binary_search(list[:midpoint], target)\n",
        "\n",
        "def verify(result):\n",
        "  return \"Target found\" if result else \"Target not found\""
      ],
      "metadata": {
        "id": "c0d-ph-pm0U_"
      },
      "execution_count": 21,
      "outputs": []
    },
    {
      "cell_type": "code",
      "source": [
        "verify(recursive_binary_search(numbers,7))"
      ],
      "metadata": {
        "id": "nsi5Y5D9pmLX",
        "outputId": "6863c2b3-553c-4cf0-80eb-f8410dbd304c",
        "colab": {
          "base_uri": "https://localhost:8080/",
          "height": 38
        }
      },
      "execution_count": 27,
      "outputs": [
        {
          "output_type": "execute_result",
          "data": {
            "text/plain": [
              "'Target found'"
            ],
            "application/vnd.google.colaboratory.intrinsic+json": {
              "type": "string"
            }
          },
          "metadata": {},
          "execution_count": 27
        }
      ]
    },
    {
      "cell_type": "code",
      "source": [],
      "metadata": {
        "id": "PjxnfhIUpyCO"
      },
      "execution_count": null,
      "outputs": []
    }
  ]
}